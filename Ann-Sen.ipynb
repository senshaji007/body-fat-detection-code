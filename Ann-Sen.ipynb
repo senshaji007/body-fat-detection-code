{
 "cells": [
  {
   "cell_type": "code",
   "execution_count": 1,
   "id": "813a5536",
   "metadata": {},
   "outputs": [],
   "source": [
    "import numpy as np\n",
    "import pandas as pd\n",
    "import tensorflow as tf\n",
    "import matplotlib.pyplot as plt\n",
    "from sklearn.model_selection import train_test_split\n",
    "from tensorflow import keras"
   ]
  },
  {
   "cell_type": "code",
   "execution_count": 2,
   "id": "b5fd8dfb",
   "metadata": {},
   "outputs": [],
   "source": [
    "dataset = pd.read_csv(r\"C:\\Users\\senshaji\\Downloads\\Body_Fat_Data.csv\")\n"
   ]
  },
  {
   "cell_type": "code",
   "execution_count": 3,
   "id": "a2f300e9",
   "metadata": {},
   "outputs": [
    {
     "data": {
      "text/html": [
       "<div>\n",
       "<style scoped>\n",
       "    .dataframe tbody tr th:only-of-type {\n",
       "        vertical-align: middle;\n",
       "    }\n",
       "\n",
       "    .dataframe tbody tr th {\n",
       "        vertical-align: top;\n",
       "    }\n",
       "\n",
       "    .dataframe thead th {\n",
       "        text-align: right;\n",
       "    }\n",
       "</style>\n",
       "<table border=\"1\" class=\"dataframe\">\n",
       "  <thead>\n",
       "    <tr style=\"text-align: right;\">\n",
       "      <th></th>\n",
       "      <th>Density</th>\n",
       "      <th>Age</th>\n",
       "      <th>Weight</th>\n",
       "      <th>Height</th>\n",
       "      <th>Neck</th>\n",
       "      <th>Chest</th>\n",
       "      <th>Abdomen</th>\n",
       "      <th>Hip</th>\n",
       "      <th>Thigh</th>\n",
       "      <th>Knee</th>\n",
       "      <th>Ankle</th>\n",
       "      <th>Biceps</th>\n",
       "      <th>Forearm</th>\n",
       "      <th>Wrist</th>\n",
       "      <th>BodyFat_Flag</th>\n",
       "    </tr>\n",
       "  </thead>\n",
       "  <tbody>\n",
       "    <tr>\n",
       "      <th>0</th>\n",
       "      <td>1.0708</td>\n",
       "      <td>23</td>\n",
       "      <td>154.25</td>\n",
       "      <td>67.75</td>\n",
       "      <td>36.2</td>\n",
       "      <td>93.1</td>\n",
       "      <td>85.2</td>\n",
       "      <td>94.5</td>\n",
       "      <td>59.0</td>\n",
       "      <td>37.3</td>\n",
       "      <td>21.9</td>\n",
       "      <td>32.0</td>\n",
       "      <td>27.4</td>\n",
       "      <td>17.1</td>\n",
       "      <td>0</td>\n",
       "    </tr>\n",
       "    <tr>\n",
       "      <th>1</th>\n",
       "      <td>1.0853</td>\n",
       "      <td>22</td>\n",
       "      <td>173.25</td>\n",
       "      <td>72.25</td>\n",
       "      <td>38.5</td>\n",
       "      <td>93.6</td>\n",
       "      <td>83.0</td>\n",
       "      <td>98.7</td>\n",
       "      <td>58.7</td>\n",
       "      <td>37.3</td>\n",
       "      <td>23.4</td>\n",
       "      <td>30.5</td>\n",
       "      <td>28.9</td>\n",
       "      <td>18.2</td>\n",
       "      <td>0</td>\n",
       "    </tr>\n",
       "    <tr>\n",
       "      <th>2</th>\n",
       "      <td>1.0414</td>\n",
       "      <td>22</td>\n",
       "      <td>154.00</td>\n",
       "      <td>66.25</td>\n",
       "      <td>34.0</td>\n",
       "      <td>95.8</td>\n",
       "      <td>87.9</td>\n",
       "      <td>99.2</td>\n",
       "      <td>59.6</td>\n",
       "      <td>38.9</td>\n",
       "      <td>24.0</td>\n",
       "      <td>28.8</td>\n",
       "      <td>25.2</td>\n",
       "      <td>16.6</td>\n",
       "      <td>1</td>\n",
       "    </tr>\n",
       "    <tr>\n",
       "      <th>3</th>\n",
       "      <td>1.0751</td>\n",
       "      <td>26</td>\n",
       "      <td>184.75</td>\n",
       "      <td>72.25</td>\n",
       "      <td>37.4</td>\n",
       "      <td>101.8</td>\n",
       "      <td>86.4</td>\n",
       "      <td>101.2</td>\n",
       "      <td>60.1</td>\n",
       "      <td>37.3</td>\n",
       "      <td>22.8</td>\n",
       "      <td>32.4</td>\n",
       "      <td>29.4</td>\n",
       "      <td>18.2</td>\n",
       "      <td>0</td>\n",
       "    </tr>\n",
       "    <tr>\n",
       "      <th>4</th>\n",
       "      <td>1.0340</td>\n",
       "      <td>24</td>\n",
       "      <td>184.25</td>\n",
       "      <td>71.25</td>\n",
       "      <td>34.4</td>\n",
       "      <td>97.3</td>\n",
       "      <td>100.0</td>\n",
       "      <td>101.9</td>\n",
       "      <td>63.2</td>\n",
       "      <td>42.2</td>\n",
       "      <td>24.0</td>\n",
       "      <td>32.2</td>\n",
       "      <td>27.7</td>\n",
       "      <td>17.7</td>\n",
       "      <td>1</td>\n",
       "    </tr>\n",
       "    <tr>\n",
       "      <th>5</th>\n",
       "      <td>1.0502</td>\n",
       "      <td>24</td>\n",
       "      <td>210.25</td>\n",
       "      <td>74.75</td>\n",
       "      <td>39.0</td>\n",
       "      <td>104.5</td>\n",
       "      <td>94.4</td>\n",
       "      <td>107.8</td>\n",
       "      <td>66.0</td>\n",
       "      <td>42.0</td>\n",
       "      <td>25.6</td>\n",
       "      <td>35.7</td>\n",
       "      <td>30.6</td>\n",
       "      <td>18.8</td>\n",
       "      <td>1</td>\n",
       "    </tr>\n",
       "    <tr>\n",
       "      <th>6</th>\n",
       "      <td>1.0549</td>\n",
       "      <td>26</td>\n",
       "      <td>181.00</td>\n",
       "      <td>69.75</td>\n",
       "      <td>36.4</td>\n",
       "      <td>105.1</td>\n",
       "      <td>90.7</td>\n",
       "      <td>100.3</td>\n",
       "      <td>58.4</td>\n",
       "      <td>38.3</td>\n",
       "      <td>22.9</td>\n",
       "      <td>31.9</td>\n",
       "      <td>27.8</td>\n",
       "      <td>17.7</td>\n",
       "      <td>1</td>\n",
       "    </tr>\n",
       "  </tbody>\n",
       "</table>\n",
       "</div>"
      ],
      "text/plain": [
       "   Density  Age  Weight  Height  Neck  Chest  Abdomen    Hip  Thigh  Knee  \\\n",
       "0   1.0708   23  154.25   67.75  36.2   93.1     85.2   94.5   59.0  37.3   \n",
       "1   1.0853   22  173.25   72.25  38.5   93.6     83.0   98.7   58.7  37.3   \n",
       "2   1.0414   22  154.00   66.25  34.0   95.8     87.9   99.2   59.6  38.9   \n",
       "3   1.0751   26  184.75   72.25  37.4  101.8     86.4  101.2   60.1  37.3   \n",
       "4   1.0340   24  184.25   71.25  34.4   97.3    100.0  101.9   63.2  42.2   \n",
       "5   1.0502   24  210.25   74.75  39.0  104.5     94.4  107.8   66.0  42.0   \n",
       "6   1.0549   26  181.00   69.75  36.4  105.1     90.7  100.3   58.4  38.3   \n",
       "\n",
       "   Ankle  Biceps  Forearm  Wrist  BodyFat_Flag  \n",
       "0   21.9    32.0     27.4   17.1             0  \n",
       "1   23.4    30.5     28.9   18.2             0  \n",
       "2   24.0    28.8     25.2   16.6             1  \n",
       "3   22.8    32.4     29.4   18.2             0  \n",
       "4   24.0    32.2     27.7   17.7             1  \n",
       "5   25.6    35.7     30.6   18.8             1  \n",
       "6   22.9    31.9     27.8   17.7             1  "
      ]
     },
     "execution_count": 3,
     "metadata": {},
     "output_type": "execute_result"
    }
   ],
   "source": [
    "dataset.head(7)\n"
   ]
  },
  {
   "cell_type": "code",
   "execution_count": 4,
   "id": "c156caae",
   "metadata": {},
   "outputs": [],
   "source": [
    "dataset=dataset.fillna(0)"
   ]
  },
  {
   "cell_type": "code",
   "execution_count": 5,
   "id": "61804999",
   "metadata": {},
   "outputs": [],
   "source": [
    "ftr = dataset.drop('BodyFat_Flag', axis=1)\n",
    "tar = dataset['BodyFat_Flag']"
   ]
  },
  {
   "cell_type": "code",
   "execution_count": 6,
   "id": "9f4a4d89",
   "metadata": {},
   "outputs": [],
   "source": [
    "X_train, X_test, Y_train, Y_test = train_test_split(ftr, tar, test_size=0.20, random_state=64)"
   ]
  },
  {
   "cell_type": "code",
   "execution_count": 7,
   "id": "56c55a20",
   "metadata": {},
   "outputs": [],
   "source": [
    "tensor_featr = [tf.feature_column.numeric_column('Density'),\n",
    "            tf.feature_column.numeric_column('Age'),\n",
    "            tf.feature_column.numeric_column('Weight'),\n",
    "            tf.feature_column.numeric_column('Height'),\n",
    "            tf.feature_column.numeric_column('Neck'),\n",
    "            tf.feature_column.numeric_column('Chest'),\n",
    "            tf.feature_column.numeric_column('Abdomen'),\n",
    "            tf.feature_column.numeric_column('Hip'),\n",
    "            tf.feature_column.numeric_column('Thigh'),\n",
    "            tf.feature_column.numeric_column('Knee'),\n",
    "            tf.feature_column.numeric_column('Ankle'),\n",
    "            tf.feature_column.numeric_column('Biceps'),\n",
    "            tf.feature_column.numeric_column('Forearm'),\n",
    "            tf.feature_column.numeric_column('Wrist')\n",
    "           ]"
   ]
  },
  {
   "cell_type": "code",
   "execution_count": 8,
   "id": "0ce513c2",
   "metadata": {},
   "outputs": [],
   "source": [
    "def model_param(epoch_count,batch_count,shuffle):\n",
    "    return tf.compat.v1.estimator.inputs.pandas_input_fn(\n",
    "        x=X_train,\n",
    "        y=Y_train,\n",
    "        batch_size=batch_count,\n",
    "        shuffle=shuffle,\n",
    "        num_epochs=epoch_count\n",
    "    )"
   ]
  },
  {
   "cell_type": "code",
   "execution_count": 9,
   "id": "cae983b6",
   "metadata": {},
   "outputs": [],
   "source": [
    "def model_assess(epoch_count,batch_count,shuffle):\n",
    "    return tf.compat.v1.estimator.inputs.pandas_input_fn(\n",
    "        x=X_test,\n",
    "        y=Y_test,\n",
    "        batch_size=batch_count,\n",
    "        shuffle=shuffle,\n",
    "        num_epochs=epoch_count\n",
    "    )"
   ]
  },
  {
   "cell_type": "code",
   "execution_count": 10,
   "id": "ea176e56",
   "metadata": {},
   "outputs": [
    {
     "name": "stdout",
     "output_type": "stream",
     "text": [
      "INFO:tensorflow:Using default config.\n",
      "WARNING:tensorflow:Using temporary folder as model directory: C:\\Users\\senshaji\\AppData\\Local\\Temp\\tmpqjf9li8b\n",
      "INFO:tensorflow:Using config: {'_model_dir': 'C:\\\\Users\\\\senshaji\\\\AppData\\\\Local\\\\Temp\\\\tmpqjf9li8b', '_tf_random_seed': None, '_save_summary_steps': 100, '_save_checkpoints_steps': None, '_save_checkpoints_secs': 600, '_session_config': allow_soft_placement: true\n",
      "graph_options {\n",
      "  rewrite_options {\n",
      "    meta_optimizer_iterations: ONE\n",
      "  }\n",
      "}\n",
      ", '_keep_checkpoint_max': 5, '_keep_checkpoint_every_n_hours': 10000, '_log_step_count_steps': 100, '_train_distribute': None, '_device_fn': None, '_protocol': None, '_eval_distribute': None, '_experimental_distribute': None, '_experimental_max_worker_delay_secs': None, '_session_creation_timeout_secs': 7200, '_checkpoint_save_graph_def': True, '_service': None, '_cluster_spec': ClusterSpec({}), '_task_type': 'worker', '_task_id': 0, '_global_id_in_cluster': 0, '_master': '', '_evaluation_master': '', '_is_chief': True, '_num_ps_replicas': 0, '_num_worker_replicas': 1}\n"
     ]
    }
   ],
   "source": [
    "model_ANN = tf.estimator.DNNClassifier(n_classes=3,\n",
    "                                       hidden_units=[1024,512,256,32,3],\n",
    "                                       feature_columns=tensor_featr,\n",
    "                                       optimizer='Adam',\n",
    "                                       dropout=0.25,\n",
    "                                       activation_fn=tf.nn.relu\n",
    "                                      )"
   ]
  },
  {
   "cell_type": "code",
   "execution_count": 11,
   "id": "c2113f47",
   "metadata": {},
   "outputs": [
    {
     "name": "stdout",
     "output_type": "stream",
     "text": [
      "WARNING:tensorflow:From D:\\anaconda3\\lib\\site-packages\\tensorflow\\python\\util\\lazy_loader.py:59: The name tf.estimator.inputs is deprecated. Please use tf.compat.v1.estimator.inputs instead.\n",
      "\n",
      "WARNING:tensorflow:From C:\\Users\\senshaji\\AppData\\Local\\Temp\\ipykernel_34856\\4016131193.py:2: The name tf.estimator.inputs.pandas_input_fn is deprecated. Please use tf.compat.v1.estimator.inputs.pandas_input_fn instead.\n",
      "\n",
      "WARNING:tensorflow:From D:\\anaconda3\\lib\\site-packages\\tensorflow\\python\\training\\training_util.py:396: Variable.initialized_value (from tensorflow.python.ops.variables) is deprecated and will be removed in a future version.\n",
      "Instructions for updating:\n",
      "Use Variable.read_value. Variables in 2.X are initialized automatically both in eager and graph (inside tf.defun) contexts.\n",
      "WARNING:tensorflow:From D:\\anaconda3\\lib\\site-packages\\tensorflow_estimator\\python\\estimator\\inputs\\queues\\feeding_queue_runner.py:60: QueueRunner.__init__ (from tensorflow.python.training.queue_runner_impl) is deprecated and will be removed in a future version.\n",
      "Instructions for updating:\n",
      "To construct input pipelines, use the `tf.data` module.\n",
      "WARNING:tensorflow:From D:\\anaconda3\\lib\\site-packages\\tensorflow_estimator\\python\\estimator\\inputs\\queues\\feeding_functions.py:491: add_queue_runner (from tensorflow.python.training.queue_runner_impl) is deprecated and will be removed in a future version.\n",
      "Instructions for updating:\n",
      "To construct input pipelines, use the `tf.data` module.\n",
      "INFO:tensorflow:Calling model_fn.\n",
      "INFO:tensorflow:Done calling model_fn.\n",
      "INFO:tensorflow:Create CheckpointSaverHook.\n",
      "INFO:tensorflow:Graph was finalized.\n",
      "INFO:tensorflow:Running local_init_op.\n",
      "INFO:tensorflow:Done running local_init_op.\n",
      "WARNING:tensorflow:From D:\\anaconda3\\lib\\site-packages\\tensorflow\\python\\training\\monitored_session.py:914: start_queue_runners (from tensorflow.python.training.queue_runner_impl) is deprecated and will be removed in a future version.\n",
      "Instructions for updating:\n",
      "To construct input pipelines, use the `tf.data` module.\n",
      "INFO:tensorflow:Calling checkpoint listeners before saving checkpoint 0...\n",
      "INFO:tensorflow:Saving checkpoints for 0 into C:\\Users\\senshaji\\AppData\\Local\\Temp\\tmpqjf9li8b\\model.ckpt.\n",
      "INFO:tensorflow:C:\\Users\\senshaji\\AppData\\Local\\Temp\\tmpqjf9li8b\\model.ckpt-0.data-00000-of-00001\n",
      "INFO:tensorflow:8200\n",
      "INFO:tensorflow:C:\\Users\\senshaji\\AppData\\Local\\Temp\\tmpqjf9li8b\\model.ckpt-0.index\n",
      "INFO:tensorflow:8200\n",
      "INFO:tensorflow:C:\\Users\\senshaji\\AppData\\Local\\Temp\\tmpqjf9li8b\\model.ckpt-0.meta\n",
      "INFO:tensorflow:8500\n",
      "INFO:tensorflow:Calling checkpoint listeners after saving checkpoint 0...\n",
      "INFO:tensorflow:loss = 2.9198112, step = 0\n",
      "INFO:tensorflow:global_step/sec: 106.192\n",
      "INFO:tensorflow:loss = 0.79834795, step = 100 (0.946 sec)\n",
      "INFO:tensorflow:global_step/sec: 113.927\n",
      "INFO:tensorflow:loss = 0.7888191, step = 200 (0.892 sec)\n",
      "INFO:tensorflow:global_step/sec: 99.5884\n",
      "INFO:tensorflow:loss = 0.73330915, step = 300 (0.991 sec)\n",
      "INFO:tensorflow:Calling checkpoint listeners before saving checkpoint 315...\n",
      "INFO:tensorflow:Saving checkpoints for 315 into C:\\Users\\senshaji\\AppData\\Local\\Temp\\tmpqjf9li8b\\model.ckpt.\n",
      "INFO:tensorflow:C:\\Users\\senshaji\\AppData\\Local\\Temp\\tmpqjf9li8b\\model.ckpt-315.data-00000-of-00001\n",
      "INFO:tensorflow:8200\n",
      "INFO:tensorflow:C:\\Users\\senshaji\\AppData\\Local\\Temp\\tmpqjf9li8b\\model.ckpt-315.index\n",
      "INFO:tensorflow:8200\n",
      "INFO:tensorflow:C:\\Users\\senshaji\\AppData\\Local\\Temp\\tmpqjf9li8b\\model.ckpt-315.meta\n",
      "INFO:tensorflow:8500\n",
      "INFO:tensorflow:Calling checkpoint listeners after saving checkpoint 315...\n",
      "INFO:tensorflow:Loss for final step: 0.7974944.\n"
     ]
    },
    {
     "data": {
      "text/plain": [
       "<tensorflow_estimator.python.estimator.canned.dnn.DNNClassifierV2 at 0x1982d933c70>"
      ]
     },
     "execution_count": 11,
     "metadata": {},
     "output_type": "execute_result"
    }
   ],
   "source": [
    "model_ANN.train(input_fn=model_param(200,128,True),steps=1200)"
   ]
  },
  {
   "cell_type": "code",
   "execution_count": 12,
   "id": "f2686c65",
   "metadata": {},
   "outputs": [
    {
     "name": "stdout",
     "output_type": "stream",
     "text": [
      "INFO:tensorflow:Calling model_fn.\n",
      "INFO:tensorflow:Done calling model_fn.\n",
      "INFO:tensorflow:Starting evaluation at 2023-03-09T20:22:11\n",
      "INFO:tensorflow:Graph was finalized.\n",
      "INFO:tensorflow:Restoring parameters from C:\\Users\\senshaji\\AppData\\Local\\Temp\\tmpqjf9li8b\\model.ckpt-315\n",
      "INFO:tensorflow:Running local_init_op.\n",
      "INFO:tensorflow:Done running local_init_op.\n",
      "INFO:tensorflow:Inference Time : 0.70899s\n",
      "INFO:tensorflow:Finished evaluation at 2023-03-09-20:22:12\n",
      "INFO:tensorflow:Saving dict for global step 315: accuracy = 0.47058824, average_loss = 0.6971095, global_step = 315, loss = 0.69711566\n",
      "INFO:tensorflow:Saving 'checkpoint_path' summary for global step 315: C:\\Users\\senshaji\\AppData\\Local\\Temp\\tmpqjf9li8b\\model.ckpt-315\n"
     ]
    },
    {
     "data": {
      "text/plain": [
       "{'accuracy': 0.47058824,\n",
       " 'average_loss': 0.6971095,\n",
       " 'loss': 0.69711566,\n",
       " 'global_step': 315}"
      ]
     },
     "execution_count": 12,
     "metadata": {},
     "output_type": "execute_result"
    }
   ],
   "source": [
    "model_ANN.evaluate(input_fn=model_assess(200,128,True),steps=1200)\n"
   ]
  },
  {
   "cell_type": "code",
   "execution_count": 13,
   "id": "0462590f",
   "metadata": {},
   "outputs": [
    {
     "name": "stdout",
     "output_type": "stream",
     "text": [
      "INFO:tensorflow:Using default config.\n",
      "WARNING:tensorflow:Using temporary folder as model directory: C:\\Users\\senshaji\\AppData\\Local\\Temp\\tmpmes8fxx8\n",
      "INFO:tensorflow:Using config: {'_model_dir': 'C:\\\\Users\\\\senshaji\\\\AppData\\\\Local\\\\Temp\\\\tmpmes8fxx8', '_tf_random_seed': None, '_save_summary_steps': 100, '_save_checkpoints_steps': None, '_save_checkpoints_secs': 600, '_session_config': allow_soft_placement: true\n",
      "graph_options {\n",
      "  rewrite_options {\n",
      "    meta_optimizer_iterations: ONE\n",
      "  }\n",
      "}\n",
      ", '_keep_checkpoint_max': 5, '_keep_checkpoint_every_n_hours': 10000, '_log_step_count_steps': 100, '_train_distribute': None, '_device_fn': None, '_protocol': None, '_eval_distribute': None, '_experimental_distribute': None, '_experimental_max_worker_delay_secs': None, '_session_creation_timeout_secs': 7200, '_checkpoint_save_graph_def': True, '_service': None, '_cluster_spec': ClusterSpec({}), '_task_type': 'worker', '_task_id': 0, '_global_id_in_cluster': 0, '_master': '', '_evaluation_master': '', '_is_chief': True, '_num_ps_replicas': 0, '_num_worker_replicas': 1}\n"
     ]
    }
   ],
   "source": [
    "Linear_ANN_model = tf.estimator.DNNLinearCombinedClassifier(n_classes=3,dnn_dropout=0.25,dnn_hidden_units=[1024,512,256,32,3],linear_feature_columns=tensor_featr,dnn_optimizer='Adam',dnn_feature_columns=tensor_featr,dnn_activation_fn='relu')"
   ]
  },
  {
   "cell_type": "code",
   "execution_count": 14,
   "id": "df93fc87",
   "metadata": {},
   "outputs": [
    {
     "name": "stdout",
     "output_type": "stream",
     "text": [
      "INFO:tensorflow:Calling model_fn.\n",
      "WARNING:tensorflow:From D:\\anaconda3\\lib\\site-packages\\keras\\optimizers\\optimizer_v2\\ftrl.py:153: calling Constant.__init__ (from tensorflow.python.ops.init_ops) with dtype is deprecated and will be removed in a future version.\n",
      "Instructions for updating:\n",
      "Call initializer instance with the dtype argument instead of passing it to the constructor\n",
      "INFO:tensorflow:Done calling model_fn.\n",
      "INFO:tensorflow:Create CheckpointSaverHook.\n",
      "INFO:tensorflow:Graph was finalized.\n",
      "INFO:tensorflow:Running local_init_op.\n",
      "INFO:tensorflow:Done running local_init_op.\n",
      "INFO:tensorflow:Calling checkpoint listeners before saving checkpoint 0...\n",
      "INFO:tensorflow:Saving checkpoints for 0 into C:\\Users\\senshaji\\AppData\\Local\\Temp\\tmpmes8fxx8\\model.ckpt.\n",
      "INFO:tensorflow:C:\\Users\\senshaji\\AppData\\Local\\Temp\\tmpmes8fxx8\\model.ckpt-0.data-00000-of-00001\n",
      "INFO:tensorflow:8200\n",
      "INFO:tensorflow:C:\\Users\\senshaji\\AppData\\Local\\Temp\\tmpmes8fxx8\\model.ckpt-0.index\n",
      "INFO:tensorflow:8200\n",
      "INFO:tensorflow:C:\\Users\\senshaji\\AppData\\Local\\Temp\\tmpmes8fxx8\\model.ckpt-0.meta\n",
      "INFO:tensorflow:8800\n",
      "INFO:tensorflow:Calling checkpoint listeners after saving checkpoint 0...\n",
      "INFO:tensorflow:loss = 12.899634, step = 0\n",
      "INFO:tensorflow:global_step/sec: 89.1246\n",
      "INFO:tensorflow:loss = 0.6159549, step = 100 (1.122 sec)\n",
      "INFO:tensorflow:global_step/sec: 101.604\n",
      "INFO:tensorflow:loss = 0.5895542, step = 200 (1.002 sec)\n",
      "INFO:tensorflow:global_step/sec: 96.5784\n",
      "INFO:tensorflow:loss = 0.5303857, step = 300 (1.036 sec)\n",
      "INFO:tensorflow:Calling checkpoint listeners before saving checkpoint 315...\n",
      "INFO:tensorflow:Saving checkpoints for 315 into C:\\Users\\senshaji\\AppData\\Local\\Temp\\tmpmes8fxx8\\model.ckpt.\n",
      "INFO:tensorflow:C:\\Users\\senshaji\\AppData\\Local\\Temp\\tmpmes8fxx8\\model.ckpt-315.data-00000-of-00001\n",
      "INFO:tensorflow:8200\n",
      "INFO:tensorflow:C:\\Users\\senshaji\\AppData\\Local\\Temp\\tmpmes8fxx8\\model.ckpt-315.index\n",
      "INFO:tensorflow:8200\n",
      "INFO:tensorflow:C:\\Users\\senshaji\\AppData\\Local\\Temp\\tmpmes8fxx8\\model.ckpt-315.meta\n",
      "INFO:tensorflow:8800\n",
      "INFO:tensorflow:Calling checkpoint listeners after saving checkpoint 315...\n",
      "INFO:tensorflow:Loss for final step: 0.49960238.\n"
     ]
    },
    {
     "data": {
      "text/plain": [
       "<tensorflow_estimator.python.estimator.canned.dnn_linear_combined.DNNLinearCombinedClassifierV2 at 0x1982f3ba850>"
      ]
     },
     "execution_count": 14,
     "metadata": {},
     "output_type": "execute_result"
    }
   ],
   "source": [
    "Linear_ANN_model.train(input_fn=model_param(200,128,True),steps=1200)\n"
   ]
  },
  {
   "cell_type": "code",
   "execution_count": 15,
   "id": "79de85b1",
   "metadata": {},
   "outputs": [
    {
     "name": "stdout",
     "output_type": "stream",
     "text": [
      "INFO:tensorflow:Calling model_fn.\n",
      "INFO:tensorflow:Done calling model_fn.\n",
      "INFO:tensorflow:Starting evaluation at 2023-03-09T20:24:09\n",
      "INFO:tensorflow:Graph was finalized.\n",
      "INFO:tensorflow:Restoring parameters from C:\\Users\\senshaji\\AppData\\Local\\Temp\\tmpmes8fxx8\\model.ckpt-315\n",
      "INFO:tensorflow:Running local_init_op.\n",
      "INFO:tensorflow:Done running local_init_op.\n",
      "INFO:tensorflow:Inference Time : 0.89813s\n",
      "INFO:tensorflow:Finished evaluation at 2023-03-09-20:24:10\n",
      "INFO:tensorflow:Saving dict for global step 315: accuracy = 0.49019608, average_loss = 0.68342483, global_step = 315, loss = 0.6833251\n",
      "INFO:tensorflow:Saving 'checkpoint_path' summary for global step 315: C:\\Users\\senshaji\\AppData\\Local\\Temp\\tmpmes8fxx8\\model.ckpt-315\n"
     ]
    },
    {
     "data": {
      "text/plain": [
       "{'accuracy': 0.49019608,\n",
       " 'average_loss': 0.68342483,\n",
       " 'loss': 0.6833251,\n",
       " 'global_step': 315}"
      ]
     },
     "execution_count": 15,
     "metadata": {},
     "output_type": "execute_result"
    }
   ],
   "source": [
    "Linear_ANN_model.evaluate(input_fn=model_assess(200,128,True),steps=1200)"
   ]
  },
  {
   "cell_type": "code",
   "execution_count": 16,
   "id": "38624009",
   "metadata": {},
   "outputs": [
    {
     "name": "stdout",
     "output_type": "stream",
     "text": [
      "INFO:tensorflow:Calling model_fn.\n",
      "INFO:tensorflow:Done calling model_fn.\n",
      "INFO:tensorflow:Starting evaluation at 2023-03-09T22:09:12\n",
      "INFO:tensorflow:Graph was finalized.\n",
      "INFO:tensorflow:Restoring parameters from C:\\Users\\senshaji\\AppData\\Local\\Temp\\tmpmes8fxx8\\model.ckpt-315\n",
      "INFO:tensorflow:Running local_init_op.\n",
      "INFO:tensorflow:Done running local_init_op.\n",
      "INFO:tensorflow:Inference Time : 1.67415s\n",
      "INFO:tensorflow:Finished evaluation at 2023-03-09-22:09:14\n",
      "INFO:tensorflow:Saving dict for global step 315: accuracy = 0.49019608, average_loss = 0.68342483, global_step = 315, loss = 0.68333006\n",
      "INFO:tensorflow:Saving 'checkpoint_path' summary for global step 315: C:\\Users\\senshaji\\AppData\\Local\\Temp\\tmpmes8fxx8\\model.ckpt-315\n"
     ]
    },
    {
     "data": {
      "text/plain": [
       "{'accuracy': 0.49019608,\n",
       " 'average_loss': 0.68342483,\n",
       " 'loss': 0.68333006,\n",
       " 'global_step': 315}"
      ]
     },
     "execution_count": 16,
     "metadata": {},
     "output_type": "execute_result"
    }
   ],
   "source": [
    "Linear_ANN_model.evaluate(input_fn=model_assess(200,128,True),steps=1200)\n"
   ]
  },
  {
   "cell_type": "code",
   "execution_count": null,
   "id": "b1bfb7b8",
   "metadata": {},
   "outputs": [],
   "source": []
  }
 ],
 "metadata": {
  "kernelspec": {
   "display_name": "Python 3 (ipykernel)",
   "language": "python",
   "name": "python3"
  },
  "language_info": {
   "codemirror_mode": {
    "name": "ipython",
    "version": 3
   },
   "file_extension": ".py",
   "mimetype": "text/x-python",
   "name": "python",
   "nbconvert_exporter": "python",
   "pygments_lexer": "ipython3",
   "version": "3.9.13"
  }
 },
 "nbformat": 4,
 "nbformat_minor": 5
}
